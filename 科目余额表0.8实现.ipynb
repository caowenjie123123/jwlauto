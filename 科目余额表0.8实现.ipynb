{
 "cells": [
  {
   "cell_type": "markdown",
   "metadata": {},
   "source": [
    "# 读取表格所需数据"
   ]
  },
  {
   "cell_type": "code",
   "execution_count": 60,
   "metadata": {
    "ExecuteTime": {
     "end_time": "2022-01-07T12:09:04.113379Z",
     "start_time": "2022-01-07T12:09:03.056587Z"
    }
   },
   "outputs": [
    {
     "name": "stdout",
     "output_type": "stream",
     "text": [
      "WARNING *** file size (141438) not 512 + multiple of sector size (512)\n"
     ]
    }
   ],
   "source": [
    "import time\n",
    "import xlrd\n",
    "import re\n",
    "#打开科目余额表.xls工作簿\n",
    "data = xlrd.open_workbook('科目余额表.xls') # 打开xls文件\n",
    "#通过名称sheet1获取表格数据\n",
    "table = data.sheet_by_name('Sheet')\n",
    "\n",
    "\n",
    "# 按列数读取，读取第0列\n",
    "# 都从第四行开始读取\n",
    "first_col = table.col_values(0)\n",
    "a = first_col[6:]\n",
    "#a\n",
    "\n",
    "# 按列数读取，读取第1列\n",
    "s = table.col_values(1)\n",
    "b = s[6:]\n",
    "#b\n",
    "\n",
    "# 按列数读取，读取第倒数第2列\n",
    "t = table.col_values(-1)\n",
    "c = t[6:]\n",
    "#c\n",
    "\n",
    "\n",
    "from pandas.core.frame import DataFrame\n",
    "diction={\"a\":a,\"b\":b,\"c\":c}#将列表a，b转换成字典\n",
    "df=DataFrame(diction)#将字典转换成为数据框\n",
    "#print(df)\n",
    "\n",
    "time.sleep(1)"
   ]
  },
  {
   "cell_type": "code",
   "execution_count": 61,
   "metadata": {
    "ExecuteTime": {
     "end_time": "2022-01-07T12:09:04.174218Z",
     "start_time": "2022-01-07T12:09:04.160963Z"
    }
   },
   "outputs": [],
   "source": [
    "# a"
   ]
  },
  {
   "cell_type": "code",
   "execution_count": null,
   "metadata": {},
   "outputs": [],
   "source": []
  },
  {
   "cell_type": "markdown",
   "metadata": {},
   "source": [
    "# 对于第0列数据（即编号），要找到不是字符串的数字并且改成字符串"
   ]
  },
  {
   "cell_type": "code",
   "execution_count": 62,
   "metadata": {
    "ExecuteTime": {
     "end_time": "2022-01-07T12:09:05.898896Z",
     "start_time": "2022-01-07T12:09:04.788831Z"
    }
   },
   "outputs": [],
   "source": [
    "zfc=[]\n",
    "# 查找哪一个不是字符型变量\n",
    "for i in range(df.shape[0]):\n",
    "    #print(len(str(df.iloc[i,0])))\n",
    "    if type(df.iloc[i,0])!=str:\n",
    "        zfc.append(i)\n",
    "for i in zfc:\n",
    "    df.iloc[i,0]=str(int(df.iloc[i,0]))\n",
    "    \n",
    "# 找出所有的7位数总行的索引\n",
    "# 索引存储的列表\n",
    "bianhao7 = []\n",
    "for i in range(df.shape[0]):\n",
    "    if len(df.iloc[i,0])==7:\n",
    "        bianhao7.append(i)\n",
    "#bianhao7\n",
    "# 找出所有的10位数总行的索引\n",
    "# 索引存储的列表\n",
    "bianhao10 = []\n",
    "for i in range(df.shape[0]):\n",
    "    if len(df.iloc[i,0])==10:\n",
    "        bianhao10.append(i)\n",
    "\n",
    "df7 = df.iloc[bianhao7,:]\n",
    "df10 = df.iloc[bianhao10,:]\n",
    "\n",
    "# 索引重新排序\n",
    "df71=df7.reset_index(drop=True)\n",
    "#print(df71)\n",
    "df10.head()\n",
    "df101=df10.reset_index(drop=True)\n",
    "#print(df101)\n",
    "\n",
    "time.sleep(1)"
   ]
  },
  {
   "cell_type": "markdown",
   "metadata": {},
   "source": [
    "# 形成所需数据的数据框"
   ]
  },
  {
   "cell_type": "code",
   "execution_count": 63,
   "metadata": {
    "ExecuteTime": {
     "end_time": "2022-01-07T12:09:05.946956Z",
     "start_time": "2022-01-07T12:09:05.932760Z"
    }
   },
   "outputs": [],
   "source": [
    "# import re\n",
    "# aaa = 'assxsxs12344'\n",
    "# cop = re.compile(\"[^0-9]\") # 匹配不是中文、大小写、数字的其他字符\n",
    "# string1 = cop.sub('', aaa) #将string1中匹配到的字符替换成空字符\n",
    "# string1"
   ]
  },
  {
   "cell_type": "code",
   "execution_count": 64,
   "metadata": {
    "ExecuteTime": {
     "end_time": "2022-01-07T12:09:07.474255Z",
     "start_time": "2022-01-07T12:09:05.979648Z"
    }
   },
   "outputs": [],
   "source": [
    "# 文字生成 银行-分行\n",
    "shiyan=df101\n",
    "for i in range(df71.shape[0]):\n",
    "    for j in range(shiyan.shape[0]):\n",
    "        if df71.iloc[i,0]==shiyan.iloc[j,0][:7]:\n",
    "            shiyan.iloc[j,1]=df71.iloc[i,1]+'-'+shiyan.iloc[j,1]\n",
    "\n",
    "shiyan1=shiyan\n",
    "# 增加一列\n",
    "shiyan1['add_column']  = 1\n",
    "\n",
    "#最后一列账号编号\n",
    "for i in range(shiyan1.shape[0]):\n",
    "    aaa = shiyan1.iloc[i,1]\n",
    "    cop = re.compile(\"[^0-9]\") # 匹配不是中文、大小写、数字的其他字符\n",
    "    string1 = cop.sub('', aaa) #将string1中匹配到的字符替换成空字符\n",
    "#     shiyan1.iloc[i,3]=\"\\'\"+string1+\"\\'\"\n",
    "    shiyan1.iloc[i,3]=string1\n",
    "#shiyan1\n",
    "# 字符串去数字\n",
    "\n",
    "import string\n",
    "for i in range(shiyan1.shape[0]):\n",
    "    shiyan1.iloc[i,1]=shiyan1.iloc[i,1].rstrip(string.digits)\n",
    "    \n",
    "    \n",
    "    \n",
    "# 金额完善\n",
    "for i in range(shiyan1.shape[0]):\n",
    "    # 由于二进制存储误差用round(,0)四舍五入到整数位\n",
    "    shiyan1.iloc[i,2]='¥'+str(int(round(shiyan1.iloc[i,2]*100,0)))\n",
    "    \n",
    "time.sleep(1)"
   ]
  },
  {
   "cell_type": "markdown",
   "metadata": {},
   "source": [
    "# 打印信息表,导出信息表格"
   ]
  },
  {
   "cell_type": "code",
   "execution_count": 65,
   "metadata": {
    "ExecuteTime": {
     "end_time": "2022-01-07T12:09:07.522004Z",
     "start_time": "2022-01-07T12:09:07.507838Z"
    }
   },
   "outputs": [],
   "source": [
    "shiyan1.head()\n",
    "shiyan1[\"add_column\"] = shiyan1[\"add_column\"].astype(str)"
   ]
  },
  {
   "cell_type": "code",
   "execution_count": 66,
   "metadata": {
    "ExecuteTime": {
     "end_time": "2022-01-07T12:09:07.833965Z",
     "start_time": "2022-01-07T12:09:07.819708Z"
    }
   },
   "outputs": [],
   "source": [
    "#shiyan1"
   ]
  },
  {
   "cell_type": "code",
   "execution_count": 67,
   "metadata": {
    "ExecuteTime": {
     "end_time": "2022-01-07T12:09:16.961339Z",
     "start_time": "2022-01-07T12:09:16.951198Z"
    }
   },
   "outputs": [],
   "source": [
    "# 输出shiyan1 表格\n",
    "shiyan1.to_csv('shiyan1.csv')"
   ]
  },
  {
   "cell_type": "markdown",
   "metadata": {},
   "source": [
    "# 文档打开地址得改改"
   ]
  },
  {
   "cell_type": "code",
   "execution_count": 59,
   "metadata": {
    "ExecuteTime": {
     "end_time": "2022-01-07T12:07:14.346065Z",
     "start_time": "2022-01-07T12:07:14.333214Z"
    },
    "scrolled": true
   },
   "outputs": [
    {
     "ename": "FileNotFoundError",
     "evalue": "[Errno 2] No such file or directory: '余额调节表.xls'",
     "output_type": "error",
     "traceback": [
      "\u001b[1;31m---------------------------------------------------------------------------\u001b[0m",
      "\u001b[1;31mFileNotFoundError\u001b[0m                         Traceback (most recent call last)",
      "\u001b[1;32m<ipython-input-59-e0c08d310dc3>\u001b[0m in \u001b[0;36m<module>\u001b[1;34m\u001b[0m\n\u001b[0;32m      4\u001b[0m \u001b[1;31m# 保持格式不变\u001b[0m\u001b[1;33m\u001b[0m\u001b[1;33m\u001b[0m\u001b[1;33m\u001b[0m\u001b[0m\n\u001b[0;32m      5\u001b[0m tem_excel = xlrd.open_workbook(r'余额调节表.xls'\n\u001b[1;32m----> 6\u001b[1;33m                               ,formatting_info=True)\n\u001b[0m\u001b[0;32m      7\u001b[0m \u001b[1;31m# 拷贝工作簿\u001b[0m\u001b[1;33m\u001b[0m\u001b[1;33m\u001b[0m\u001b[1;33m\u001b[0m\u001b[0m\n\u001b[0;32m      8\u001b[0m \u001b[0mnew_excel\u001b[0m \u001b[1;33m=\u001b[0m \u001b[0mcopy\u001b[0m\u001b[1;33m(\u001b[0m\u001b[0mtem_excel\u001b[0m\u001b[1;33m)\u001b[0m\u001b[1;33m\u001b[0m\u001b[1;33m\u001b[0m\u001b[0m\n",
      "\u001b[1;32mD:\\anaconda\\lib\\site-packages\\xlrd\\__init__.py\u001b[0m in \u001b[0;36mopen_workbook\u001b[1;34m(filename, logfile, verbosity, use_mmap, file_contents, encoding_override, formatting_info, on_demand, ragged_rows)\u001b[0m\n\u001b[0;32m    109\u001b[0m     \u001b[1;32melse\u001b[0m\u001b[1;33m:\u001b[0m\u001b[1;33m\u001b[0m\u001b[1;33m\u001b[0m\u001b[0m\n\u001b[0;32m    110\u001b[0m         \u001b[0mfilename\u001b[0m \u001b[1;33m=\u001b[0m \u001b[0mos\u001b[0m\u001b[1;33m.\u001b[0m\u001b[0mpath\u001b[0m\u001b[1;33m.\u001b[0m\u001b[0mexpanduser\u001b[0m\u001b[1;33m(\u001b[0m\u001b[0mfilename\u001b[0m\u001b[1;33m)\u001b[0m\u001b[1;33m\u001b[0m\u001b[1;33m\u001b[0m\u001b[0m\n\u001b[1;32m--> 111\u001b[1;33m         \u001b[1;32mwith\u001b[0m \u001b[0mopen\u001b[0m\u001b[1;33m(\u001b[0m\u001b[0mfilename\u001b[0m\u001b[1;33m,\u001b[0m \u001b[1;34m\"rb\"\u001b[0m\u001b[1;33m)\u001b[0m \u001b[1;32mas\u001b[0m \u001b[0mf\u001b[0m\u001b[1;33m:\u001b[0m\u001b[1;33m\u001b[0m\u001b[1;33m\u001b[0m\u001b[0m\n\u001b[0m\u001b[0;32m    112\u001b[0m             \u001b[0mpeek\u001b[0m \u001b[1;33m=\u001b[0m \u001b[0mf\u001b[0m\u001b[1;33m.\u001b[0m\u001b[0mread\u001b[0m\u001b[1;33m(\u001b[0m\u001b[0mpeeksz\u001b[0m\u001b[1;33m)\u001b[0m\u001b[1;33m\u001b[0m\u001b[1;33m\u001b[0m\u001b[0m\n\u001b[0;32m    113\u001b[0m     \u001b[1;32mif\u001b[0m \u001b[0mpeek\u001b[0m \u001b[1;33m==\u001b[0m \u001b[1;34mb\"PK\\x03\\x04\"\u001b[0m\u001b[1;33m:\u001b[0m \u001b[1;31m# a ZIP file\u001b[0m\u001b[1;33m\u001b[0m\u001b[1;33m\u001b[0m\u001b[0m\n",
      "\u001b[1;31mFileNotFoundError\u001b[0m: [Errno 2] No such file or directory: '余额调节表.xls'"
     ]
    }
   ],
   "source": [
    "from xlutils.copy import copy\n",
    "import xlrd\n",
    "import xlwt\n",
    "# 保持格式不变\n",
    "tem_excel = xlrd.open_workbook(r'余额调节表.xls'\n",
    "                              ,formatting_info=True)\n",
    "# 拷贝工作簿\n",
    "new_excel = copy(tem_excel)"
   ]
  },
  {
   "cell_type": "markdown",
   "metadata": {},
   "source": [
    "# 设计单元格格式"
   ]
  },
  {
   "cell_type": "code",
   "execution_count": 8,
   "metadata": {},
   "outputs": [],
   "source": [
    "# 开户银行和账号格式 style0\n",
    "style0 = xlwt.XFStyle()\n",
    "\n",
    "font = xlwt.Font()\n",
    "font.name = '宋体'\n",
    "#加粗与否\n",
    "font.bold = False\n",
    "# 前一个数字是字号\n",
    "font.height = 14*20 \n",
    "# 样式复制\n",
    "style0.font = font\n",
    "\n",
    "\n",
    "# 对齐\n",
    "alignment = xlwt.Alignment()\n",
    "# 水平方向\n",
    "alignment.horz = xlwt.Alignment.HORZ_CENTER\n",
    "# 垂直方向\n",
    "alignment.vert = xlwt.Alignment.VERT_CENTER\n",
    "style0.alignment = alignment\n"
   ]
  },
  {
   "cell_type": "markdown",
   "metadata": {},
   "source": [
    "# 上面两个金额数字单元格的格式"
   ]
  },
  {
   "cell_type": "code",
   "execution_count": 9,
   "metadata": {},
   "outputs": [],
   "source": [
    "# 上面两个金额的格式\n",
    "style1 = xlwt.XFStyle()\n",
    "\n",
    "font = xlwt.Font()\n",
    "font.name = '宋体'\n",
    "font.bold = False\n",
    "# 前一个数字是字号\n",
    "font.height = 10*20 \n",
    "# 样式复制\n",
    "style1.font = font\n",
    "\n",
    "# 单元格边框\n",
    "borders = xlwt.Borders()\n",
    "borders.top = xlwt.Borders.MEDIUM\n",
    "borders.bottom = xlwt.Borders.MEDIUM\n",
    "borders.left = xlwt.Borders.THIN\n",
    "borders.right = xlwt.Borders.THICK\n",
    "style1.borders = borders\n",
    "\n",
    "# 对齐\n",
    "alignment = xlwt.Alignment()\n",
    "# 水平方向\n",
    "alignment.horz = xlwt.Alignment.HORZ_CENTER\n",
    "# 垂直方向\n",
    "alignment.vert = xlwt.Alignment.VERT_CENTER\n",
    "style1.alignment = alignment"
   ]
  },
  {
   "cell_type": "code",
   "execution_count": 10,
   "metadata": {},
   "outputs": [],
   "source": [
    "style2 = xlwt.XFStyle()\n",
    "\n",
    "font = xlwt.Font()\n",
    "font.name = '宋体'\n",
    "font.bold = False\n",
    "# 前一个数字是字号\n",
    "font.height = 10*20 \n",
    "# 样式复制\n",
    "style2.font = font\n",
    "\n",
    "# 单元格边框\n",
    "borders = xlwt.Borders()\n",
    "borders.top = xlwt.Borders.MEDIUM\n",
    "borders.bottom = xlwt.Borders.MEDIUM\n",
    "borders.left = xlwt.Borders.MEDIUM\n",
    "borders.right = xlwt.Borders.THIN\n",
    "style2.borders = borders\n",
    "\n",
    "# 对齐\n",
    "alignment = xlwt.Alignment()\n",
    "# 水平方向\n",
    "alignment.horz = xlwt.Alignment.HORZ_CENTER\n",
    "# 垂直方向\n",
    "alignment.vert = xlwt.Alignment.VERT_CENTER\n",
    "style2.alignment = alignment"
   ]
  },
  {
   "cell_type": "code",
   "execution_count": 11,
   "metadata": {},
   "outputs": [],
   "source": [
    "style3 = xlwt.XFStyle()\n",
    "\n",
    "font = xlwt.Font()\n",
    "font.name = '宋体'\n",
    "font.bold = False\n",
    "# 前一个数字是字号\n",
    "font.height = 10*20 \n",
    "# 样式复制\n",
    "style3.font = font\n",
    "\n",
    "# 单元格边框\n",
    "borders = xlwt.Borders()\n",
    "borders.top = xlwt.Borders.MEDIUM\n",
    "borders.bottom = xlwt.Borders.MEDIUM\n",
    "borders.left = xlwt.Borders.THIN\n",
    "borders.right = xlwt.Borders.MEDIUM\n",
    "style3.borders = borders\n",
    "\n",
    "# 对齐\n",
    "alignment = xlwt.Alignment()\n",
    "# 水平方向\n",
    "alignment.horz = xlwt.Alignment.HORZ_CENTER\n",
    "# 垂直方向\n",
    "alignment.vert = xlwt.Alignment.VERT_CENTER\n",
    "style3.alignment = alignment"
   ]
  },
  {
   "cell_type": "code",
   "execution_count": 12,
   "metadata": {},
   "outputs": [],
   "source": [
    "# 初始化空样式\n",
    "style4 = xlwt.XFStyle()\n",
    "\n",
    "font = xlwt.Font()\n",
    "font.name = '宋体'\n",
    "font.bold = False\n",
    "# 前一个数字是字号\n",
    "font.height = 10*20 \n",
    "# 样式复制\n",
    "style4.font = font\n",
    "\n",
    "# 单元格边框\n",
    "borders = xlwt.Borders()\n",
    "borders.top = xlwt.Borders.MEDIUM\n",
    "borders.bottom = xlwt.Borders.MEDIUM\n",
    "borders.left = xlwt.Borders.THIN\n",
    "borders.right = xlwt.Borders.THIN\n",
    "style4.borders = borders\n",
    "\n",
    "# 对齐\n",
    "alignment = xlwt.Alignment()\n",
    "# 水平方向\n",
    "alignment.horz = xlwt.Alignment.HORZ_CENTER\n",
    "# 垂直方向\n",
    "alignment.vert = xlwt.Alignment.VERT_CENTER\n",
    "style4.alignment = alignment"
   ]
  },
  {
   "cell_type": "code",
   "execution_count": 13,
   "metadata": {},
   "outputs": [],
   "source": [
    "stylelist=[style1,style2,style3,style4,style2,style3,style4,style2,style3,style4,style2]"
   ]
  },
  {
   "cell_type": "markdown",
   "metadata": {},
   "source": [
    "# 下面两个金额数字单元格的格式"
   ]
  },
  {
   "cell_type": "code",
   "execution_count": 14,
   "metadata": {},
   "outputs": [],
   "source": [
    "style7 = xlwt.XFStyle()\n",
    "\n",
    "font = xlwt.Font()\n",
    "font.name = '宋体'\n",
    "font.bold = False\n",
    "# 前一个数字是字号\n",
    "font.height = 10*20 \n",
    "# 样式复制\n",
    "style7.font = font\n",
    "\n",
    "# 单元格边框\n",
    "borders = xlwt.Borders()\n",
    "borders.top = xlwt.Borders.MEDIUM\n",
    "borders.bottom = xlwt.Borders.THICK\n",
    "borders.left = xlwt.Borders.THIN\n",
    "borders.right = xlwt.Borders.THICK\n",
    "style7.borders = borders\n",
    "\n",
    "# 对齐\n",
    "alignment = xlwt.Alignment()\n",
    "# 水平方向\n",
    "alignment.horz = xlwt.Alignment.HORZ_CENTER\n",
    "# 垂直方向\n",
    "alignment.vert = xlwt.Alignment.VERT_CENTER\n",
    "style7.alignment = alignment"
   ]
  },
  {
   "cell_type": "code",
   "execution_count": 15,
   "metadata": {},
   "outputs": [],
   "source": [
    "style8 = xlwt.XFStyle()\n",
    "\n",
    "font = xlwt.Font()\n",
    "font.name = '宋体'\n",
    "font.bold = False\n",
    "# 前一个数字是字号\n",
    "font.height = 10*20 \n",
    "# 样式复制\n",
    "style8.font = font\n",
    "\n",
    "# 单元格边框\n",
    "borders = xlwt.Borders()\n",
    "borders.top = xlwt.Borders.MEDIUM\n",
    "borders.bottom = xlwt.Borders.THICK\n",
    "borders.left = xlwt.Borders.MEDIUM\n",
    "borders.right = xlwt.Borders.THIN\n",
    "style8.borders = borders\n",
    "\n",
    "# 对齐\n",
    "alignment = xlwt.Alignment()\n",
    "# 水平方向\n",
    "alignment.horz = xlwt.Alignment.HORZ_CENTER\n",
    "# 垂直方向\n",
    "alignment.vert = xlwt.Alignment.VERT_CENTER\n",
    "style8.alignment = alignment"
   ]
  },
  {
   "cell_type": "code",
   "execution_count": 16,
   "metadata": {},
   "outputs": [],
   "source": [
    "style9 = xlwt.XFStyle()\n",
    "\n",
    "font = xlwt.Font()\n",
    "font.name = '宋体'\n",
    "font.bold = False\n",
    "# 前一个数字是字号\n",
    "font.height = 10*20 \n",
    "# 样式复制\n",
    "style9.font = font\n",
    "\n",
    "# 单元格边框\n",
    "borders = xlwt.Borders()\n",
    "borders.top = xlwt.Borders.MEDIUM\n",
    "borders.bottom = xlwt.Borders.THICK\n",
    "borders.left = xlwt.Borders.THIN\n",
    "borders.right = xlwt.Borders.MEDIUM\n",
    "style9.borders = borders\n",
    "\n",
    "# 对齐\n",
    "alignment = xlwt.Alignment()\n",
    "# 水平方向\n",
    "alignment.horz = xlwt.Alignment.HORZ_CENTER\n",
    "# 垂直方向\n",
    "alignment.vert = xlwt.Alignment.VERT_CENTER\n",
    "style9.alignment = alignment"
   ]
  },
  {
   "cell_type": "code",
   "execution_count": 17,
   "metadata": {},
   "outputs": [],
   "source": [
    "# 初始化空样式\n",
    "style10 = xlwt.XFStyle()\n",
    "\n",
    "font = xlwt.Font()\n",
    "font.name = '宋体'\n",
    "font.bold = False\n",
    "# 前一个数字是字号\n",
    "font.height = 10*20 \n",
    "# 样式复制\n",
    "style10.font = font\n",
    "\n",
    "# 单元格边框\n",
    "borders = xlwt.Borders()\n",
    "borders.top = xlwt.Borders.MEDIUM\n",
    "borders.bottom = xlwt.Borders.THICK\n",
    "borders.left = xlwt.Borders.THIN\n",
    "borders.right = xlwt.Borders.THIN\n",
    "style10.borders = borders\n",
    "\n",
    "# 对齐\n",
    "alignment = xlwt.Alignment()\n",
    "# 水平方向\n",
    "alignment.horz = xlwt.Alignment.HORZ_CENTER\n",
    "# 垂直方向\n",
    "alignment.vert = xlwt.Alignment.VERT_CENTER\n",
    "style10.alignment = alignment"
   ]
  },
  {
   "cell_type": "code",
   "execution_count": 18,
   "metadata": {},
   "outputs": [],
   "source": [
    "stylelist1=[style7,style8,style9,style10,style8,style9,style10,style8,style9,style10,style8]"
   ]
  },
  {
   "cell_type": "code",
   "execution_count": 19,
   "metadata": {},
   "outputs": [],
   "source": [
    "# 金额文字单元格样式\n",
    "style5 = xlwt.XFStyle()\n",
    "\n",
    "font = xlwt.Font()\n",
    "font.name = '宋体'\n",
    "font.bold = False\n",
    "# 前一个数字是字号\n",
    "font.height = 12*20 \n",
    "# 样式复制\n",
    "style5.font = font\n",
    "\n",
    "# 单元格边框\n",
    "borders = xlwt.Borders()\n",
    "borders.top = xlwt.Borders.THICK\n",
    "borders.bottom = xlwt.Borders.MEDIUM\n",
    "borders.left = xlwt.Borders.MEDIUM\n",
    "borders.right = xlwt.Borders.THICK\n",
    "style5.borders = borders\n",
    "\n",
    "# 对齐\n",
    "alignment = xlwt.Alignment()\n",
    "# 水平方向\n",
    "alignment.horz = xlwt.Alignment.HORZ_CENTER\n",
    "# 垂直方向\n",
    "alignment.vert = xlwt.Alignment.VERT_CENTER\n",
    "style5.alignment = alignment"
   ]
  },
  {
   "cell_type": "code",
   "execution_count": 20,
   "metadata": {},
   "outputs": [],
   "source": [
    "# 编号样式\n",
    "style6 = xlwt.XFStyle()\n",
    "\n",
    "font = xlwt.Font()\n",
    "font.name = '宋体'\n",
    "font.bold = False\n",
    "# 前一个数字是字号\n",
    "font.height = 20*20 \n",
    "# 样式复制\n",
    "style6.font = font\n",
    "\n",
    "\n",
    "\n",
    "# 对齐\n",
    "alignment = xlwt.Alignment()\n",
    "# 水平方向\n",
    "alignment.horz = xlwt.Alignment.HORZ_CENTER\n",
    "# 垂直方向\n",
    "alignment.vert = xlwt.Alignment.VERT_CENTER\n",
    "style6.alignment = alignment\n"
   ]
  },
  {
   "cell_type": "markdown",
   "metadata": {},
   "source": [
    "# 写函数"
   ]
  },
  {
   "cell_type": "code",
   "execution_count": 21,
   "metadata": {},
   "outputs": [],
   "source": [
    "# sheet_num sheet是第几个\n",
    "# khyh 表示开户银行位于数据框的位置值\n",
    "# zanghao 同理\n",
    "# jinge\n",
    "def add_new_sheet_about_kemuyue(sheet_num,khyh,zhanghao,jinge):\n",
    "            \n",
    "    new_sheet_kmye = new_excel.get_sheet(sheet_num)\n",
    "    \n",
    "    #试试看去掉页眉页脚\n",
    "    new_sheet_kmye.header_str = b''\n",
    "    new_sheet_kmye.footer_str = b''\n",
    "    \n",
    "    new_sheet_kmye.write(2,0,'开户银行：'+khyh,style0)\n",
    "    new_sheet_kmye.write(2,13,'账号：'+zhanghao,style0)\n",
    "    \n",
    "    time.sleep(1)\n",
    "    \n",
    "    if len(jinge)>11:\n",
    "        print(shiyan1.iloc[sheet_num,:])\n",
    "    else:  \n",
    "        for i in range(len(jinge)):\n",
    "            new_sheet_kmye.write(5,12-i,jinge[-i-1],stylelist[i])\n",
    "\n",
    "        for i in range(len(jinge)):\n",
    "            new_sheet_kmye.write(5,25-i,jinge[-i-1],stylelist[i])\n",
    "        \n",
    "        for i in range(len(jinge)):\n",
    "            new_sheet_kmye.write(37,12-i,jinge[-i-1],stylelist1[i])\n",
    "\n",
    "        for i in range(len(jinge)):\n",
    "            new_sheet_kmye.write(37,25-i,jinge[-i-1],stylelist1[i])\n",
    "    \n",
    "    new_sheet_kmye.write(3,25,'金        额',style5)\n",
    "    new_sheet_kmye.write(3,12,'金        额',style5)\n",
    "  \n",
    "    new_sheet_kmye.write(1,25,sheet_num+1,style6)\n",
    "    time.sleep(1)"
   ]
  },
  {
   "cell_type": "markdown",
   "metadata": {},
   "source": [
    "# 调试前5个"
   ]
  },
  {
   "cell_type": "code",
   "execution_count": 9,
   "metadata": {
    "ExecuteTime": {
     "end_time": "2022-01-07T11:31:59.867662Z",
     "start_time": "2022-01-07T11:31:59.850312Z"
    }
   },
   "outputs": [],
   "source": [
    "# for j in range(0,5):\n",
    "#     add_new_sheet_about_kemuyue(j,shiyan1.iloc[j,1],shiyan1.iloc[j,3],shiyan1.iloc[j,2])"
   ]
  },
  {
   "cell_type": "markdown",
   "metadata": {},
   "source": [
    "# 文档保存地址改一下"
   ]
  },
  {
   "cell_type": "code",
   "execution_count": 10,
   "metadata": {
    "ExecuteTime": {
     "end_time": "2022-01-07T11:32:04.158574Z",
     "start_time": "2022-01-07T11:32:04.143040Z"
    }
   },
   "outputs": [],
   "source": [
    "# new_excel.save(r\"格式.xls\")"
   ]
  },
  {
   "cell_type": "markdown",
   "metadata": {},
   "source": [
    "# 正式实现 ——运行前删除 格式.xls"
   ]
  },
  {
   "cell_type": "code",
   "execution_count": 24,
   "metadata": {
    "scrolled": false
   },
   "outputs": [
    {
     "name": "stdout",
     "output_type": "stream",
     "text": [
      "a               1002002009\n",
      "b             中国银行-上海华科路支行\n",
      "c             ¥18328760152\n",
      "add_column            7417\n",
      "Name: 38, dtype: object\n",
      "a                1002003002\n",
      "b             中国建设银行-上海第二支行\n",
      "c             ¥122404793485\n",
      "add_column             5027\n",
      "Name: 48, dtype: object\n",
      "a                1002003003\n",
      "b             中国建设银行-上海第二支行\n",
      "c              ¥48130399452\n",
      "add_column             8948\n",
      "Name: 49, dtype: object\n",
      "a               1002016005\n",
      "b                上海银行-徐汇支行\n",
      "c             ¥12338586999\n",
      "add_column            8877\n",
      "Name: 209, dtype: object\n"
     ]
    }
   ],
   "source": [
    "for j in range(0,shiyan1.shape[0]):\n",
    "    add_new_sheet_about_kemuyue(j,shiyan1.iloc[j,1],shiyan1.iloc[j,3],shiyan1.iloc[j,2])"
   ]
  },
  {
   "cell_type": "markdown",
   "metadata": {},
   "source": [
    "# 文档保存地址改一下"
   ]
  },
  {
   "cell_type": "code",
   "execution_count": 25,
   "metadata": {},
   "outputs": [],
   "source": [
    "new_excel.save(r\"格式1.xls\")"
   ]
  },
  {
   "cell_type": "code",
   "execution_count": null,
   "metadata": {},
   "outputs": [],
   "source": []
  }
 ],
 "metadata": {
  "kernelspec": {
   "display_name": "Python 3",
   "language": "python",
   "name": "python3"
  },
  "language_info": {
   "codemirror_mode": {
    "name": "ipython",
    "version": 3
   },
   "file_extension": ".py",
   "mimetype": "text/x-python",
   "name": "python",
   "nbconvert_exporter": "python",
   "pygments_lexer": "ipython3",
   "version": "3.7.6"
  },
  "toc": {
   "base_numbering": 1,
   "nav_menu": {},
   "number_sections": true,
   "sideBar": true,
   "skip_h1_title": false,
   "title_cell": "Table of Contents",
   "title_sidebar": "Contents",
   "toc_cell": false,
   "toc_position": {},
   "toc_section_display": true,
   "toc_window_display": false
  },
  "varInspector": {
   "cols": {
    "lenName": 16,
    "lenType": 16,
    "lenVar": 40
   },
   "kernels_config": {
    "python": {
     "delete_cmd_postfix": "",
     "delete_cmd_prefix": "del ",
     "library": "var_list.py",
     "varRefreshCmd": "print(var_dic_list())"
    },
    "r": {
     "delete_cmd_postfix": ") ",
     "delete_cmd_prefix": "rm(",
     "library": "var_list.r",
     "varRefreshCmd": "cat(var_dic_list()) "
    }
   },
   "types_to_exclude": [
    "module",
    "function",
    "builtin_function_or_method",
    "instance",
    "_Feature"
   ],
   "window_display": false
  }
 },
 "nbformat": 4,
 "nbformat_minor": 2
}
