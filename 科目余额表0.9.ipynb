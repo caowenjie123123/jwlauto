{
 "cells": [
  {
   "cell_type": "markdown",
   "metadata": {},
   "source": [
    "# 读取表格所需数据"
   ]
  },
  {
   "cell_type": "code",
   "execution_count": 87,
   "metadata": {
    "ExecuteTime": {
     "end_time": "2022-01-07T12:15:23.237334Z",
     "start_time": "2022-01-07T12:15:22.190386Z"
    }
   },
   "outputs": [
    {
     "name": "stdout",
     "output_type": "stream",
     "text": [
      "WARNING *** file size (141438) not 512 + multiple of sector size (512)\n"
     ]
    }
   ],
   "source": [
    "import time\n",
    "import xlrd\n",
    "import re\n",
    "#打开科目余额表.xls工作簿\n",
    "data = xlrd.open_workbook('科目余额表.xls') # 打开xls文件\n",
    "#通过名称sheet1获取表格数据\n",
    "table = data.sheet_by_name('Sheet')\n",
    "\n",
    "\n",
    "# 按列数读取，读取第0列\n",
    "# 都从第四行开始读取\n",
    "first_col = table.col_values(0)\n",
    "a = first_col[6:]\n",
    "#a\n",
    "\n",
    "# 按列数读取，读取第1列\n",
    "s = table.col_values(1)\n",
    "b = s[6:]\n",
    "#b\n",
    "\n",
    "# 按列数读取，读取第倒数第2列\n",
    "t = table.col_values(-1)\n",
    "c = t[6:]\n",
    "#c\n",
    "\n",
    "\n",
    "from pandas.core.frame import DataFrame\n",
    "diction={\"a\":a,\"b\":b,\"c\":c}#将列表a，b转换成字典\n",
    "df=DataFrame(diction)#将字典转换成为数据框\n",
    "#print(df)\n",
    "\n",
    "time.sleep(1)"
   ]
  },
  {
   "cell_type": "code",
   "execution_count": 88,
   "metadata": {
    "ExecuteTime": {
     "end_time": "2022-01-07T12:15:23.316491Z",
     "start_time": "2022-01-07T12:15:23.301880Z"
    }
   },
   "outputs": [],
   "source": [
    "# a"
   ]
  },
  {
   "cell_type": "code",
   "execution_count": null,
   "metadata": {},
   "outputs": [],
   "source": []
  },
  {
   "cell_type": "markdown",
   "metadata": {},
   "source": [
    "# 对于第0列数据（即编号），要找到不是字符串的数字并且改成字符串"
   ]
  },
  {
   "cell_type": "code",
   "execution_count": 89,
   "metadata": {
    "ExecuteTime": {
     "end_time": "2022-01-07T12:15:24.436991Z",
     "start_time": "2022-01-07T12:15:23.380823Z"
    }
   },
   "outputs": [],
   "source": [
    "zfc=[]\n",
    "# 查找哪一个不是字符型变量\n",
    "for i in range(df.shape[0]):\n",
    "    #print(len(str(df.iloc[i,0])))\n",
    "    if type(df.iloc[i,0])!=str:\n",
    "        zfc.append(i)\n",
    "for i in zfc:\n",
    "    df.iloc[i,0]=str(int(df.iloc[i,0]))\n",
    "    \n",
    "# 找出所有的7位数总行的索引\n",
    "# 索引存储的列表\n",
    "bianhao7 = []\n",
    "for i in range(df.shape[0]):\n",
    "    if len(df.iloc[i,0])==7:\n",
    "        bianhao7.append(i)\n",
    "#bianhao7\n",
    "# 找出所有的10位数总行的索引\n",
    "# 索引存储的列表\n",
    "bianhao10 = []\n",
    "for i in range(df.shape[0]):\n",
    "    if len(df.iloc[i,0])==10:\n",
    "        bianhao10.append(i)\n",
    "\n",
    "df7 = df.iloc[bianhao7,:]\n",
    "df10 = df.iloc[bianhao10,:]\n",
    "\n",
    "# 索引重新排序\n",
    "df71=df7.reset_index(drop=True)\n",
    "#print(df71)\n",
    "df10.head()\n",
    "df101=df10.reset_index(drop=True)\n",
    "#print(df101)\n",
    "\n",
    "time.sleep(1)"
   ]
  },
  {
   "cell_type": "markdown",
   "metadata": {},
   "source": [
    "# 形成所需数据的数据框"
   ]
  },
  {
   "cell_type": "code",
   "execution_count": 90,
   "metadata": {
    "ExecuteTime": {
     "end_time": "2022-01-07T12:15:24.547914Z",
     "start_time": "2022-01-07T12:15:24.533730Z"
    }
   },
   "outputs": [],
   "source": [
    "# import re\n",
    "# aaa = 'assxsxs12344'\n",
    "# cop = re.compile(\"[^0-9]\") # 匹配不是中文、大小写、数字的其他字符\n",
    "# string1 = cop.sub('', aaa) #将string1中匹配到的字符替换成空字符\n",
    "# string1"
   ]
  },
  {
   "cell_type": "code",
   "execution_count": 91,
   "metadata": {
    "ExecuteTime": {
     "end_time": "2022-01-07T12:15:26.154567Z",
     "start_time": "2022-01-07T12:15:24.611786Z"
    }
   },
   "outputs": [],
   "source": [
    "# 文字生成 银行-分行\n",
    "shiyan=df101\n",
    "for i in range(df71.shape[0]):\n",
    "    for j in range(shiyan.shape[0]):\n",
    "        if df71.iloc[i,0]==shiyan.iloc[j,0][:7]:\n",
    "            shiyan.iloc[j,1]=df71.iloc[i,1]+'-'+shiyan.iloc[j,1]\n",
    "\n",
    "shiyan1=shiyan\n",
    "# 增加一列\n",
    "shiyan1['add_column']  = 1\n",
    "shiyan1['add_column1']  = 1\n",
    "#最后一列账号编号\n",
    "for i in range(shiyan1.shape[0]):\n",
    "    aaa = shiyan1.iloc[i,1]\n",
    "    cop = re.compile(\"[^0-9]\") # 匹配不是中文、大小写、数字的其他字符\n",
    "    string1 = cop.sub('', aaa) #将string1中匹配到的字符替换成空字符\n",
    "#     shiyan1.iloc[i,3]=\"\\'\"+string1+\"\\'\"\n",
    "    shiyan1.iloc[i,4]=string1\n",
    "    \n",
    "for i in range(shiyan1.shape[0]):\n",
    "    shiyan1.iloc[i,3]=shiyan1.iloc[i,1][-4:]\n",
    "#shiyan1\n",
    "# 字符串去数字\n",
    "\n",
    "import string\n",
    "for i in range(shiyan1.shape[0]):\n",
    "    shiyan1.iloc[i,1]=shiyan1.iloc[i,1].rstrip(string.digits)\n",
    "    \n",
    "    \n",
    "    \n",
    "# 金额完善\n",
    "for i in range(shiyan1.shape[0]):\n",
    "    # 由于二进制存储误差用round(,0)四舍五入到整数位\n",
    "    shiyan1.iloc[i,2]='¥'+str(int(round(shiyan1.iloc[i,2]*100,0)))\n",
    "    \n",
    "time.sleep(1)"
   ]
  },
  {
   "cell_type": "markdown",
   "metadata": {},
   "source": [
    "# 打印信息表,导出信息表格"
   ]
  },
  {
   "cell_type": "code",
   "execution_count": 96,
   "metadata": {
    "ExecuteTime": {
     "end_time": "2022-01-07T12:15:45.955609Z",
     "start_time": "2022-01-07T12:15:45.938294Z"
    }
   },
   "outputs": [],
   "source": [
    "# shiyan1.head()"
   ]
  },
  {
   "cell_type": "code",
   "execution_count": 97,
   "metadata": {
    "ExecuteTime": {
     "end_time": "2022-01-07T12:15:48.942491Z",
     "start_time": "2022-01-07T12:15:48.934471Z"
    }
   },
   "outputs": [
    {
     "data": {
      "text/html": [
       "<div>\n",
       "<style scoped>\n",
       "    .dataframe tbody tr th:only-of-type {\n",
       "        vertical-align: middle;\n",
       "    }\n",
       "\n",
       "    .dataframe tbody tr th {\n",
       "        vertical-align: top;\n",
       "    }\n",
       "\n",
       "    .dataframe thead th {\n",
       "        text-align: right;\n",
       "    }\n",
       "</style>\n",
       "<table border=\"1\" class=\"dataframe\">\n",
       "  <thead>\n",
       "    <tr style=\"text-align: right;\">\n",
       "      <th></th>\n",
       "      <th>a</th>\n",
       "      <th>b</th>\n",
       "      <th>c</th>\n",
       "      <th>add_column</th>\n",
       "      <th>add_column1</th>\n",
       "    </tr>\n",
       "  </thead>\n",
       "  <tbody>\n",
       "    <tr>\n",
       "      <th>0</th>\n",
       "      <td>1002001001</td>\n",
       "      <td>中国工商银行-上海第一支行</td>\n",
       "      <td>¥33401795</td>\n",
       "      <td>7603</td>\n",
       "      <td>10012935293039977603</td>\n",
       "    </tr>\n",
       "    <tr>\n",
       "      <th>1</th>\n",
       "      <td>1002001002</td>\n",
       "      <td>中国工商银行-沈阳文化路支行</td>\n",
       "      <td>¥18656012</td>\n",
       "      <td>3337</td>\n",
       "      <td>3301003519249113337</td>\n",
       "    </tr>\n",
       "    <tr>\n",
       "      <th>2</th>\n",
       "      <td>1002001006</td>\n",
       "      <td>中国工商银行-张江川沙第二支行</td>\n",
       "      <td>¥987755616</td>\n",
       "      <td>2339</td>\n",
       "      <td>1001711819006862339</td>\n",
       "    </tr>\n",
       "    <tr>\n",
       "      <th>3</th>\n",
       "      <td>1002001009</td>\n",
       "      <td>中国工商银行-珠海夏湾支行</td>\n",
       "      <td>¥6325593</td>\n",
       "      <td>0779</td>\n",
       "      <td>2002025638000000779</td>\n",
       "    </tr>\n",
       "    <tr>\n",
       "      <th>4</th>\n",
       "      <td>1002001010</td>\n",
       "      <td>中国工商银行-珠海夏湾支行</td>\n",
       "      <td>¥101363285</td>\n",
       "      <td>1034</td>\n",
       "      <td>2002025638000001034</td>\n",
       "    </tr>\n",
       "  </tbody>\n",
       "</table>\n",
       "</div>"
      ],
      "text/plain": [
       "            a                b           c add_column           add_column1\n",
       "0  1002001001    中国工商银行-上海第一支行   ¥33401795       7603  10012935293039977603\n",
       "1  1002001002   中国工商银行-沈阳文化路支行   ¥18656012       3337   3301003519249113337\n",
       "2  1002001006  中国工商银行-张江川沙第二支行  ¥987755616       2339   1001711819006862339\n",
       "3  1002001009    中国工商银行-珠海夏湾支行    ¥6325593       0779   2002025638000000779\n",
       "4  1002001010    中国工商银行-珠海夏湾支行  ¥101363285       1034   2002025638000001034"
      ]
     },
     "execution_count": 97,
     "metadata": {},
     "output_type": "execute_result"
    }
   ],
   "source": [
    "shiyan1.head()\n",
    "# shiyan1[\"add_column\"] = shiyan1[\"add_column\"].astype(str)"
   ]
  },
  {
   "cell_type": "code",
   "execution_count": 94,
   "metadata": {
    "ExecuteTime": {
     "end_time": "2022-01-07T12:15:26.434989Z",
     "start_time": "2022-01-07T12:15:26.421046Z"
    }
   },
   "outputs": [],
   "source": [
    "#shiyan1"
   ]
  },
  {
   "cell_type": "code",
   "execution_count": 95,
   "metadata": {
    "ExecuteTime": {
     "end_time": "2022-01-07T12:15:26.525810Z",
     "start_time": "2022-01-07T12:15:26.512845Z"
    }
   },
   "outputs": [],
   "source": [
    "# 输出shiyan1 表格\n",
    "shiyan1.to_csv('shiyan1.csv')"
   ]
  },
  {
   "cell_type": "markdown",
   "metadata": {},
   "source": [
    "# 文档打开地址得改改"
   ]
  },
  {
   "cell_type": "code",
   "execution_count": 98,
   "metadata": {
    "ExecuteTime": {
     "end_time": "2022-01-07T12:17:42.823993Z",
     "start_time": "2022-01-07T12:17:42.793677Z"
    },
    "scrolled": true
   },
   "outputs": [],
   "source": [
    "from xlutils.copy import copy\n",
    "import xlrd\n",
    "import xlwt\n",
    "# 保持格式不变\n",
    "tem_excel = xlrd.open_workbook(r'余额调节表.xls'\n",
    "                              ,formatting_info=True)\n",
    "# 拷贝工作簿\n",
    "new_excel = copy(tem_excel)"
   ]
  },
  {
   "cell_type": "markdown",
   "metadata": {},
   "source": [
    "# 设计单元格格式"
   ]
  },
  {
   "cell_type": "code",
   "execution_count": 99,
   "metadata": {
    "ExecuteTime": {
     "end_time": "2022-01-07T12:17:43.614793Z",
     "start_time": "2022-01-07T12:17:43.599234Z"
    }
   },
   "outputs": [],
   "source": [
    "# 开户银行和账号格式 style0\n",
    "style0 = xlwt.XFStyle()\n",
    "\n",
    "font = xlwt.Font()\n",
    "font.name = '宋体'\n",
    "#加粗与否\n",
    "font.bold = False\n",
    "# 前一个数字是字号\n",
    "font.height = 14*20 \n",
    "# 样式复制\n",
    "style0.font = font\n",
    "\n",
    "\n",
    "# 对齐\n",
    "alignment = xlwt.Alignment()\n",
    "# 水平方向\n",
    "alignment.horz = xlwt.Alignment.HORZ_CENTER\n",
    "# 垂直方向\n",
    "alignment.vert = xlwt.Alignment.VERT_CENTER\n",
    "style0.alignment = alignment\n"
   ]
  },
  {
   "cell_type": "markdown",
   "metadata": {},
   "source": [
    "# 上面两个金额数字单元格的格式"
   ]
  },
  {
   "cell_type": "code",
   "execution_count": 100,
   "metadata": {
    "ExecuteTime": {
     "end_time": "2022-01-07T12:17:44.001730Z",
     "start_time": "2022-01-07T12:17:43.987217Z"
    }
   },
   "outputs": [],
   "source": [
    "# 上面两个金额的格式\n",
    "style1 = xlwt.XFStyle()\n",
    "\n",
    "font = xlwt.Font()\n",
    "font.name = '宋体'\n",
    "font.bold = False\n",
    "# 前一个数字是字号\n",
    "font.height = 10*20 \n",
    "# 样式复制\n",
    "style1.font = font\n",
    "\n",
    "# 单元格边框\n",
    "borders = xlwt.Borders()\n",
    "borders.top = xlwt.Borders.MEDIUM\n",
    "borders.bottom = xlwt.Borders.MEDIUM\n",
    "borders.left = xlwt.Borders.THIN\n",
    "borders.right = xlwt.Borders.THICK\n",
    "style1.borders = borders\n",
    "\n",
    "# 对齐\n",
    "alignment = xlwt.Alignment()\n",
    "# 水平方向\n",
    "alignment.horz = xlwt.Alignment.HORZ_CENTER\n",
    "# 垂直方向\n",
    "alignment.vert = xlwt.Alignment.VERT_CENTER\n",
    "style1.alignment = alignment"
   ]
  },
  {
   "cell_type": "code",
   "execution_count": 101,
   "metadata": {
    "ExecuteTime": {
     "end_time": "2022-01-07T12:17:44.252620Z",
     "start_time": "2022-01-07T12:17:44.245605Z"
    }
   },
   "outputs": [],
   "source": [
    "style2 = xlwt.XFStyle()\n",
    "\n",
    "font = xlwt.Font()\n",
    "font.name = '宋体'\n",
    "font.bold = False\n",
    "# 前一个数字是字号\n",
    "font.height = 10*20 \n",
    "# 样式复制\n",
    "style2.font = font\n",
    "\n",
    "# 单元格边框\n",
    "borders = xlwt.Borders()\n",
    "borders.top = xlwt.Borders.MEDIUM\n",
    "borders.bottom = xlwt.Borders.MEDIUM\n",
    "borders.left = xlwt.Borders.MEDIUM\n",
    "borders.right = xlwt.Borders.THIN\n",
    "style2.borders = borders\n",
    "\n",
    "# 对齐\n",
    "alignment = xlwt.Alignment()\n",
    "# 水平方向\n",
    "alignment.horz = xlwt.Alignment.HORZ_CENTER\n",
    "# 垂直方向\n",
    "alignment.vert = xlwt.Alignment.VERT_CENTER\n",
    "style2.alignment = alignment"
   ]
  },
  {
   "cell_type": "code",
   "execution_count": 102,
   "metadata": {
    "ExecuteTime": {
     "end_time": "2022-01-07T12:17:44.472048Z",
     "start_time": "2022-01-07T12:17:44.465100Z"
    }
   },
   "outputs": [],
   "source": [
    "style3 = xlwt.XFStyle()\n",
    "\n",
    "font = xlwt.Font()\n",
    "font.name = '宋体'\n",
    "font.bold = False\n",
    "# 前一个数字是字号\n",
    "font.height = 10*20 \n",
    "# 样式复制\n",
    "style3.font = font\n",
    "\n",
    "# 单元格边框\n",
    "borders = xlwt.Borders()\n",
    "borders.top = xlwt.Borders.MEDIUM\n",
    "borders.bottom = xlwt.Borders.MEDIUM\n",
    "borders.left = xlwt.Borders.THIN\n",
    "borders.right = xlwt.Borders.MEDIUM\n",
    "style3.borders = borders\n",
    "\n",
    "# 对齐\n",
    "alignment = xlwt.Alignment()\n",
    "# 水平方向\n",
    "alignment.horz = xlwt.Alignment.HORZ_CENTER\n",
    "# 垂直方向\n",
    "alignment.vert = xlwt.Alignment.VERT_CENTER\n",
    "style3.alignment = alignment"
   ]
  },
  {
   "cell_type": "code",
   "execution_count": 103,
   "metadata": {
    "ExecuteTime": {
     "end_time": "2022-01-07T12:17:44.689947Z",
     "start_time": "2022-01-07T12:17:44.673957Z"
    }
   },
   "outputs": [],
   "source": [
    "# 初始化空样式\n",
    "style4 = xlwt.XFStyle()\n",
    "\n",
    "font = xlwt.Font()\n",
    "font.name = '宋体'\n",
    "font.bold = False\n",
    "# 前一个数字是字号\n",
    "font.height = 10*20 \n",
    "# 样式复制\n",
    "style4.font = font\n",
    "\n",
    "# 单元格边框\n",
    "borders = xlwt.Borders()\n",
    "borders.top = xlwt.Borders.MEDIUM\n",
    "borders.bottom = xlwt.Borders.MEDIUM\n",
    "borders.left = xlwt.Borders.THIN\n",
    "borders.right = xlwt.Borders.THIN\n",
    "style4.borders = borders\n",
    "\n",
    "# 对齐\n",
    "alignment = xlwt.Alignment()\n",
    "# 水平方向\n",
    "alignment.horz = xlwt.Alignment.HORZ_CENTER\n",
    "# 垂直方向\n",
    "alignment.vert = xlwt.Alignment.VERT_CENTER\n",
    "style4.alignment = alignment"
   ]
  },
  {
   "cell_type": "code",
   "execution_count": 104,
   "metadata": {
    "ExecuteTime": {
     "end_time": "2022-01-07T12:17:44.921867Z",
     "start_time": "2022-01-07T12:17:44.911673Z"
    }
   },
   "outputs": [],
   "source": [
    "stylelist=[style1,style2,style3,style4,style2,style3,style4,style2,style3,style4,style2]"
   ]
  },
  {
   "cell_type": "markdown",
   "metadata": {},
   "source": [
    "# 下面两个金额数字单元格的格式"
   ]
  },
  {
   "cell_type": "code",
   "execution_count": 105,
   "metadata": {
    "ExecuteTime": {
     "end_time": "2022-01-07T12:17:45.345224Z",
     "start_time": "2022-01-07T12:17:45.329235Z"
    }
   },
   "outputs": [],
   "source": [
    "style7 = xlwt.XFStyle()\n",
    "\n",
    "font = xlwt.Font()\n",
    "font.name = '宋体'\n",
    "font.bold = False\n",
    "# 前一个数字是字号\n",
    "font.height = 10*20 \n",
    "# 样式复制\n",
    "style7.font = font\n",
    "\n",
    "# 单元格边框\n",
    "borders = xlwt.Borders()\n",
    "borders.top = xlwt.Borders.MEDIUM\n",
    "borders.bottom = xlwt.Borders.THICK\n",
    "borders.left = xlwt.Borders.THIN\n",
    "borders.right = xlwt.Borders.THICK\n",
    "style7.borders = borders\n",
    "\n",
    "# 对齐\n",
    "alignment = xlwt.Alignment()\n",
    "# 水平方向\n",
    "alignment.horz = xlwt.Alignment.HORZ_CENTER\n",
    "# 垂直方向\n",
    "alignment.vert = xlwt.Alignment.VERT_CENTER\n",
    "style7.alignment = alignment"
   ]
  },
  {
   "cell_type": "code",
   "execution_count": 106,
   "metadata": {
    "ExecuteTime": {
     "end_time": "2022-01-07T12:17:45.549480Z",
     "start_time": "2022-01-07T12:17:45.528503Z"
    }
   },
   "outputs": [],
   "source": [
    "style8 = xlwt.XFStyle()\n",
    "\n",
    "font = xlwt.Font()\n",
    "font.name = '宋体'\n",
    "font.bold = False\n",
    "# 前一个数字是字号\n",
    "font.height = 10*20 \n",
    "# 样式复制\n",
    "style8.font = font\n",
    "\n",
    "# 单元格边框\n",
    "borders = xlwt.Borders()\n",
    "borders.top = xlwt.Borders.MEDIUM\n",
    "borders.bottom = xlwt.Borders.THICK\n",
    "borders.left = xlwt.Borders.MEDIUM\n",
    "borders.right = xlwt.Borders.THIN\n",
    "style8.borders = borders\n",
    "\n",
    "# 对齐\n",
    "alignment = xlwt.Alignment()\n",
    "# 水平方向\n",
    "alignment.horz = xlwt.Alignment.HORZ_CENTER\n",
    "# 垂直方向\n",
    "alignment.vert = xlwt.Alignment.VERT_CENTER\n",
    "style8.alignment = alignment"
   ]
  },
  {
   "cell_type": "code",
   "execution_count": 107,
   "metadata": {
    "ExecuteTime": {
     "end_time": "2022-01-07T12:17:45.812335Z",
     "start_time": "2022-01-07T12:17:45.802784Z"
    }
   },
   "outputs": [],
   "source": [
    "style9 = xlwt.XFStyle()\n",
    "\n",
    "font = xlwt.Font()\n",
    "font.name = '宋体'\n",
    "font.bold = False\n",
    "# 前一个数字是字号\n",
    "font.height = 10*20 \n",
    "# 样式复制\n",
    "style9.font = font\n",
    "\n",
    "# 单元格边框\n",
    "borders = xlwt.Borders()\n",
    "borders.top = xlwt.Borders.MEDIUM\n",
    "borders.bottom = xlwt.Borders.THICK\n",
    "borders.left = xlwt.Borders.THIN\n",
    "borders.right = xlwt.Borders.MEDIUM\n",
    "style9.borders = borders\n",
    "\n",
    "# 对齐\n",
    "alignment = xlwt.Alignment()\n",
    "# 水平方向\n",
    "alignment.horz = xlwt.Alignment.HORZ_CENTER\n",
    "# 垂直方向\n",
    "alignment.vert = xlwt.Alignment.VERT_CENTER\n",
    "style9.alignment = alignment"
   ]
  },
  {
   "cell_type": "code",
   "execution_count": 108,
   "metadata": {
    "ExecuteTime": {
     "end_time": "2022-01-07T12:17:46.058404Z",
     "start_time": "2022-01-07T12:17:46.038483Z"
    }
   },
   "outputs": [],
   "source": [
    "# 初始化空样式\n",
    "style10 = xlwt.XFStyle()\n",
    "\n",
    "font = xlwt.Font()\n",
    "font.name = '宋体'\n",
    "font.bold = False\n",
    "# 前一个数字是字号\n",
    "font.height = 10*20 \n",
    "# 样式复制\n",
    "style10.font = font\n",
    "\n",
    "# 单元格边框\n",
    "borders = xlwt.Borders()\n",
    "borders.top = xlwt.Borders.MEDIUM\n",
    "borders.bottom = xlwt.Borders.THICK\n",
    "borders.left = xlwt.Borders.THIN\n",
    "borders.right = xlwt.Borders.THIN\n",
    "style10.borders = borders\n",
    "\n",
    "# 对齐\n",
    "alignment = xlwt.Alignment()\n",
    "# 水平方向\n",
    "alignment.horz = xlwt.Alignment.HORZ_CENTER\n",
    "# 垂直方向\n",
    "alignment.vert = xlwt.Alignment.VERT_CENTER\n",
    "style10.alignment = alignment"
   ]
  },
  {
   "cell_type": "code",
   "execution_count": 109,
   "metadata": {
    "ExecuteTime": {
     "end_time": "2022-01-07T12:17:46.243285Z",
     "start_time": "2022-01-07T12:17:46.234309Z"
    }
   },
   "outputs": [],
   "source": [
    "stylelist1=[style7,style8,style9,style10,style8,style9,style10,style8,style9,style10,style8]"
   ]
  },
  {
   "cell_type": "code",
   "execution_count": 110,
   "metadata": {
    "ExecuteTime": {
     "end_time": "2022-01-07T12:17:46.444725Z",
     "start_time": "2022-01-07T12:17:46.424775Z"
    }
   },
   "outputs": [],
   "source": [
    "# 金额文字单元格样式\n",
    "style5 = xlwt.XFStyle()\n",
    "\n",
    "font = xlwt.Font()\n",
    "font.name = '宋体'\n",
    "font.bold = False\n",
    "# 前一个数字是字号\n",
    "font.height = 12*20 \n",
    "# 样式复制\n",
    "style5.font = font\n",
    "\n",
    "# 单元格边框\n",
    "borders = xlwt.Borders()\n",
    "borders.top = xlwt.Borders.THICK\n",
    "borders.bottom = xlwt.Borders.MEDIUM\n",
    "borders.left = xlwt.Borders.MEDIUM\n",
    "borders.right = xlwt.Borders.THICK\n",
    "style5.borders = borders\n",
    "\n",
    "# 对齐\n",
    "alignment = xlwt.Alignment()\n",
    "# 水平方向\n",
    "alignment.horz = xlwt.Alignment.HORZ_CENTER\n",
    "# 垂直方向\n",
    "alignment.vert = xlwt.Alignment.VERT_CENTER\n",
    "style5.alignment = alignment"
   ]
  },
  {
   "cell_type": "code",
   "execution_count": 111,
   "metadata": {
    "ExecuteTime": {
     "end_time": "2022-01-07T12:17:46.649399Z",
     "start_time": "2022-01-07T12:17:46.638813Z"
    }
   },
   "outputs": [],
   "source": [
    "# 编号样式\n",
    "style6 = xlwt.XFStyle()\n",
    "\n",
    "font = xlwt.Font()\n",
    "font.name = '宋体'\n",
    "font.bold = False\n",
    "# 前一个数字是字号\n",
    "font.height = 20*20 \n",
    "# 样式复制\n",
    "style6.font = font\n",
    "\n",
    "\n",
    "\n",
    "# 对齐\n",
    "alignment = xlwt.Alignment()\n",
    "# 水平方向\n",
    "alignment.horz = xlwt.Alignment.HORZ_CENTER\n",
    "# 垂直方向\n",
    "alignment.vert = xlwt.Alignment.VERT_CENTER\n",
    "style6.alignment = alignment\n"
   ]
  },
  {
   "cell_type": "markdown",
   "metadata": {},
   "source": [
    "# 写函数"
   ]
  },
  {
   "cell_type": "code",
   "execution_count": 112,
   "metadata": {
    "ExecuteTime": {
     "end_time": "2022-01-07T12:17:46.993611Z",
     "start_time": "2022-01-07T12:17:46.981642Z"
    }
   },
   "outputs": [],
   "source": [
    "# sheet_num sheet是第几个\n",
    "# khyh 表示开户银行位于数据框的位置值\n",
    "# zanghao 同理\n",
    "# jinge\n",
    "def add_new_sheet_about_kemuyue(sheet_num,khyh,zhanghao,jinge):\n",
    "            \n",
    "    new_sheet_kmye = new_excel.get_sheet(sheet_num)\n",
    "    \n",
    "    #试试看去掉页眉页脚\n",
    "    new_sheet_kmye.header_str = b''\n",
    "    new_sheet_kmye.footer_str = b''\n",
    "    \n",
    "    new_sheet_kmye.write(2,0,'开户银行：'+khyh,style0)\n",
    "    new_sheet_kmye.write(2,13,'账号：'+zhanghao,style0)\n",
    "    \n",
    "    time.sleep(1)\n",
    "    \n",
    "    if len(jinge)>11:\n",
    "        print(shiyan1.iloc[sheet_num,:])\n",
    "    else:  \n",
    "        for i in range(len(jinge)):\n",
    "            new_sheet_kmye.write(5,12-i,jinge[-i-1],stylelist[i])\n",
    "\n",
    "        for i in range(len(jinge)):\n",
    "            new_sheet_kmye.write(5,25-i,jinge[-i-1],stylelist[i])\n",
    "        \n",
    "        for i in range(len(jinge)):\n",
    "            new_sheet_kmye.write(37,12-i,jinge[-i-1],stylelist1[i])\n",
    "\n",
    "        for i in range(len(jinge)):\n",
    "            new_sheet_kmye.write(37,25-i,jinge[-i-1],stylelist1[i])\n",
    "    \n",
    "    new_sheet_kmye.write(3,25,'金        额',style5)\n",
    "    new_sheet_kmye.write(3,12,'金        额',style5)\n",
    "  \n",
    "    new_sheet_kmye.write(1,25,sheet_num+1,style6)\n",
    "    time.sleep(1)"
   ]
  },
  {
   "cell_type": "markdown",
   "metadata": {},
   "source": [
    "# 调试前5个"
   ]
  },
  {
   "cell_type": "code",
   "execution_count": 113,
   "metadata": {
    "ExecuteTime": {
     "end_time": "2022-01-07T12:17:47.430550Z",
     "start_time": "2022-01-07T12:17:47.413590Z"
    }
   },
   "outputs": [],
   "source": [
    "# for j in range(0,5):\n",
    "#     add_new_sheet_about_kemuyue(j,shiyan1.iloc[j,1],shiyan1.iloc[j,3],shiyan1.iloc[j,2])"
   ]
  },
  {
   "cell_type": "markdown",
   "metadata": {},
   "source": [
    "# 文档保存地址改一下"
   ]
  },
  {
   "cell_type": "code",
   "execution_count": 114,
   "metadata": {
    "ExecuteTime": {
     "end_time": "2022-01-07T12:17:47.817205Z",
     "start_time": "2022-01-07T12:17:47.807020Z"
    }
   },
   "outputs": [],
   "source": [
    "# new_excel.save(r\"格式.xls\")"
   ]
  },
  {
   "cell_type": "markdown",
   "metadata": {},
   "source": [
    "# 正式实现 ——运行前删除 格式.xls"
   ]
  },
  {
   "cell_type": "code",
   "execution_count": 115,
   "metadata": {
    "ExecuteTime": {
     "end_time": "2022-01-07T12:17:54.271625Z",
     "start_time": "2022-01-07T12:17:48.165614Z"
    },
    "scrolled": false
   },
   "outputs": [
    {
     "ename": "IndexError",
     "evalue": "list index out of range",
     "output_type": "error",
     "traceback": [
      "\u001b[1;31m---------------------------------------------------------------------------\u001b[0m",
      "\u001b[1;31mIndexError\u001b[0m                                Traceback (most recent call last)",
      "\u001b[1;32m<ipython-input-115-43d1f9a1e843>\u001b[0m in \u001b[0;36m<module>\u001b[1;34m\u001b[0m\n\u001b[0;32m      1\u001b[0m \u001b[1;32mfor\u001b[0m \u001b[0mj\u001b[0m \u001b[1;32min\u001b[0m \u001b[0mrange\u001b[0m\u001b[1;33m(\u001b[0m\u001b[1;36m0\u001b[0m\u001b[1;33m,\u001b[0m\u001b[0mshiyan1\u001b[0m\u001b[1;33m.\u001b[0m\u001b[0mshape\u001b[0m\u001b[1;33m[\u001b[0m\u001b[1;36m0\u001b[0m\u001b[1;33m]\u001b[0m\u001b[1;33m)\u001b[0m\u001b[1;33m:\u001b[0m\u001b[1;33m\u001b[0m\u001b[1;33m\u001b[0m\u001b[0m\n\u001b[1;32m----> 2\u001b[1;33m     \u001b[0madd_new_sheet_about_kemuyue\u001b[0m\u001b[1;33m(\u001b[0m\u001b[0mj\u001b[0m\u001b[1;33m,\u001b[0m\u001b[0mshiyan1\u001b[0m\u001b[1;33m.\u001b[0m\u001b[0miloc\u001b[0m\u001b[1;33m[\u001b[0m\u001b[0mj\u001b[0m\u001b[1;33m,\u001b[0m\u001b[1;36m1\u001b[0m\u001b[1;33m]\u001b[0m\u001b[1;33m,\u001b[0m\u001b[0mshiyan1\u001b[0m\u001b[1;33m.\u001b[0m\u001b[0miloc\u001b[0m\u001b[1;33m[\u001b[0m\u001b[0mj\u001b[0m\u001b[1;33m,\u001b[0m\u001b[1;36m3\u001b[0m\u001b[1;33m]\u001b[0m\u001b[1;33m,\u001b[0m\u001b[0mshiyan1\u001b[0m\u001b[1;33m.\u001b[0m\u001b[0miloc\u001b[0m\u001b[1;33m[\u001b[0m\u001b[0mj\u001b[0m\u001b[1;33m,\u001b[0m\u001b[1;36m2\u001b[0m\u001b[1;33m]\u001b[0m\u001b[1;33m)\u001b[0m\u001b[1;33m\u001b[0m\u001b[1;33m\u001b[0m\u001b[0m\n\u001b[0m",
      "\u001b[1;32m<ipython-input-112-9ad6638ac3df>\u001b[0m in \u001b[0;36madd_new_sheet_about_kemuyue\u001b[1;34m(sheet_num, khyh, zhanghao, jinge)\u001b[0m\n\u001b[0;32m      5\u001b[0m \u001b[1;32mdef\u001b[0m \u001b[0madd_new_sheet_about_kemuyue\u001b[0m\u001b[1;33m(\u001b[0m\u001b[0msheet_num\u001b[0m\u001b[1;33m,\u001b[0m\u001b[0mkhyh\u001b[0m\u001b[1;33m,\u001b[0m\u001b[0mzhanghao\u001b[0m\u001b[1;33m,\u001b[0m\u001b[0mjinge\u001b[0m\u001b[1;33m)\u001b[0m\u001b[1;33m:\u001b[0m\u001b[1;33m\u001b[0m\u001b[1;33m\u001b[0m\u001b[0m\n\u001b[0;32m      6\u001b[0m \u001b[1;33m\u001b[0m\u001b[0m\n\u001b[1;32m----> 7\u001b[1;33m     \u001b[0mnew_sheet_kmye\u001b[0m \u001b[1;33m=\u001b[0m \u001b[0mnew_excel\u001b[0m\u001b[1;33m.\u001b[0m\u001b[0mget_sheet\u001b[0m\u001b[1;33m(\u001b[0m\u001b[0msheet_num\u001b[0m\u001b[1;33m)\u001b[0m\u001b[1;33m\u001b[0m\u001b[1;33m\u001b[0m\u001b[0m\n\u001b[0m\u001b[0;32m      8\u001b[0m \u001b[1;33m\u001b[0m\u001b[0m\n\u001b[0;32m      9\u001b[0m     \u001b[1;31m#试试看去掉页眉页脚\u001b[0m\u001b[1;33m\u001b[0m\u001b[1;33m\u001b[0m\u001b[1;33m\u001b[0m\u001b[0m\n",
      "\u001b[1;32mD:\\anaconda\\lib\\site-packages\\xlwt\\Workbook.py\u001b[0m in \u001b[0;36mget_sheet\u001b[1;34m(self, sheet)\u001b[0m\n\u001b[0;32m    376\u001b[0m     \u001b[1;32mdef\u001b[0m \u001b[0mget_sheet\u001b[0m\u001b[1;33m(\u001b[0m\u001b[0mself\u001b[0m\u001b[1;33m,\u001b[0m \u001b[0msheet\u001b[0m\u001b[1;33m)\u001b[0m\u001b[1;33m:\u001b[0m\u001b[1;33m\u001b[0m\u001b[1;33m\u001b[0m\u001b[0m\n\u001b[0;32m    377\u001b[0m         \u001b[1;32mif\u001b[0m \u001b[0misinstance\u001b[0m\u001b[1;33m(\u001b[0m\u001b[0msheet\u001b[0m\u001b[1;33m,\u001b[0m \u001b[0mint_types\u001b[0m\u001b[1;33m)\u001b[0m\u001b[1;33m:\u001b[0m\u001b[1;33m\u001b[0m\u001b[1;33m\u001b[0m\u001b[0m\n\u001b[1;32m--> 378\u001b[1;33m             \u001b[1;32mreturn\u001b[0m \u001b[0mself\u001b[0m\u001b[1;33m.\u001b[0m\u001b[0m__worksheets\u001b[0m\u001b[1;33m[\u001b[0m\u001b[0msheet\u001b[0m\u001b[1;33m]\u001b[0m\u001b[1;33m\u001b[0m\u001b[1;33m\u001b[0m\u001b[0m\n\u001b[0m\u001b[0;32m    379\u001b[0m         \u001b[1;32melif\u001b[0m \u001b[0misinstance\u001b[0m\u001b[1;33m(\u001b[0m\u001b[0msheet\u001b[0m\u001b[1;33m,\u001b[0m \u001b[0mbasestring\u001b[0m\u001b[1;33m)\u001b[0m\u001b[1;33m:\u001b[0m\u001b[1;33m\u001b[0m\u001b[1;33m\u001b[0m\u001b[0m\n\u001b[0;32m    380\u001b[0m             \u001b[0msheetnum\u001b[0m \u001b[1;33m=\u001b[0m \u001b[0mself\u001b[0m\u001b[1;33m.\u001b[0m\u001b[0msheet_index\u001b[0m\u001b[1;33m(\u001b[0m\u001b[0msheet\u001b[0m\u001b[1;33m)\u001b[0m\u001b[1;33m\u001b[0m\u001b[1;33m\u001b[0m\u001b[0m\n",
      "\u001b[1;31mIndexError\u001b[0m: list index out of range"
     ]
    }
   ],
   "source": [
    "for j in range(0,shiyan1.shape[0]):\n",
    "    add_new_sheet_about_kemuyue(j,shiyan1.iloc[j,1],shiyan1.iloc[j,3],shiyan1.iloc[j,2])"
   ]
  },
  {
   "cell_type": "markdown",
   "metadata": {},
   "source": [
    "# 文档保存地址改一下"
   ]
  },
  {
   "cell_type": "code",
   "execution_count": 116,
   "metadata": {
    "ExecuteTime": {
     "end_time": "2022-01-07T12:18:00.949910Z",
     "start_time": "2022-01-07T12:18:00.893258Z"
    }
   },
   "outputs": [],
   "source": [
    "new_excel.save(r\"格式1.xls\")"
   ]
  },
  {
   "cell_type": "code",
   "execution_count": null,
   "metadata": {},
   "outputs": [],
   "source": []
  }
 ],
 "metadata": {
  "kernelspec": {
   "display_name": "Python 3",
   "language": "python",
   "name": "python3"
  },
  "language_info": {
   "codemirror_mode": {
    "name": "ipython",
    "version": 3
   },
   "file_extension": ".py",
   "mimetype": "text/x-python",
   "name": "python",
   "nbconvert_exporter": "python",
   "pygments_lexer": "ipython3",
   "version": "3.7.6"
  },
  "toc": {
   "base_numbering": 1,
   "nav_menu": {},
   "number_sections": true,
   "sideBar": true,
   "skip_h1_title": false,
   "title_cell": "Table of Contents",
   "title_sidebar": "Contents",
   "toc_cell": false,
   "toc_position": {},
   "toc_section_display": true,
   "toc_window_display": false
  },
  "varInspector": {
   "cols": {
    "lenName": 16,
    "lenType": 16,
    "lenVar": 40
   },
   "kernels_config": {
    "python": {
     "delete_cmd_postfix": "",
     "delete_cmd_prefix": "del ",
     "library": "var_list.py",
     "varRefreshCmd": "print(var_dic_list())"
    },
    "r": {
     "delete_cmd_postfix": ") ",
     "delete_cmd_prefix": "rm(",
     "library": "var_list.r",
     "varRefreshCmd": "cat(var_dic_list()) "
    }
   },
   "types_to_exclude": [
    "module",
    "function",
    "builtin_function_or_method",
    "instance",
    "_Feature"
   ],
   "window_display": false
  }
 },
 "nbformat": 4,
 "nbformat_minor": 2
}
